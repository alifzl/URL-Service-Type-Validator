{
 "cells": [
  {
   "cell_type": "markdown",
   "metadata": {},
   "source": [
    "# Python script for automating the procedure of Service Provider validation in Varient URLs"
   ]
  },
  {
   "cell_type": "markdown",
   "metadata": {},
   "source": [
    "Developed by [Ali Fazeli](ali.fazeli@huawei.com) "
   ]
  },
  {
   "cell_type": "markdown",
   "metadata": {},
   "source": [
    "#### for your information\n",
    "\n",
    "What this module does is it selects host addresses from the 'test' excel file, filters it and it will pass it into **'who_is_this()'** module which validates SP (service provider) of requested host by achive and processing Whois request from [IANA](www.iana.org). \n",
    "\n",
    "In the rest of this notebook, when we mention 'query' we mean 'Whois query'"
   ]
  },
  {
   "cell_type": "markdown",
   "metadata": {},
   "source": [
    "#### script dependencies\n",
    "\n",
    "- **_pythonwhois_** module\n",
    "- **openpyxl** module"
   ]
  },
  {
   "cell_type": "markdown",
   "metadata": {},
   "source": [
    "## First Stage : making a whois request with python and retrieve a customized respond in order to achieving Service Provider information from owner of DNS"
   ]
  },
  {
   "cell_type": "markdown",
   "metadata": {},
   "source": [
    "### Printing out the whois information of an IP"
   ]
  },
  {
   "cell_type": "code",
   "execution_count": null,
   "metadata": {},
   "outputs": [],
   "source": [
    "# importing stuff\n",
    "import pythonwhois\n",
    "import socket\n",
    "import re"
   ]
  },
  {
   "cell_type": "code",
   "execution_count": 2,
   "metadata": {},
   "outputs": [],
   "source": [
    "some_web_site = pythonwhois.get_whois('zoomit.ir')"
   ]
  },
  {
   "cell_type": "code",
   "execution_count": 3,
   "metadata": {},
   "outputs": [
    {
     "data": {
      "text/plain": [
       "{'expiration_date': [datetime.datetime(2022, 8, 25, 0, 0)],\n",
       " 'updated_date': [datetime.datetime(2017, 6, 26, 0, 0)],\n",
       " 'nameservers': ['marek.ns.cloudflare.com', 'val.ns.cloudflare.com'],\n",
       " 'emails': ['info@samansystems.com'],\n",
       " 'contacts': {'registrant': {'handle': 'na1407-irnic',\n",
       "   'name': 'Najme Ataeinejad',\n",
       "   'email': 'hitking@gmail.com',\n",
       "   'city': 'Tehran',\n",
       "   'state': 'Tehran',\n",
       "   'country': 'IR',\n",
       "   'phone': '02122122588',\n",
       "   'street': 'No 14\\nSepehr St\\nFarahzadi Av\\nShahrek-e-Gharb'},\n",
       "  'tech': {'handle': 'na1407-irnic',\n",
       "   'name': 'Najme Ataeinejad',\n",
       "   'email': 'hitking@gmail.com',\n",
       "   'city': 'Tehran',\n",
       "   'state': 'Tehran',\n",
       "   'country': 'IR',\n",
       "   'phone': '02122122588',\n",
       "   'street': 'No 14\\nSepehr St\\nFarahzadi Av\\nShahrek-e-Gharb'},\n",
       "  'admin': {'handle': 'na1407-irnic',\n",
       "   'name': 'Najme Ataeinejad',\n",
       "   'email': 'hitking@gmail.com',\n",
       "   'city': 'Tehran',\n",
       "   'state': 'Tehran',\n",
       "   'country': 'IR',\n",
       "   'phone': '02122122588',\n",
       "   'street': 'No 14\\nSepehr St\\nFarahzadi Av\\nShahrek-e-Gharb'},\n",
       "  'billing': None},\n",
       " 'raw': [\"% This is the IRNIC Whois server v1.6.2.\\n% Available on web at http://whois.nic.ir/\\n% Find the terms and conditions of use on http://www.nic.ir/\\n% \\n% This server uses UTF-8 as the encoding for requests and responses.\\n\\n% NOTE: This output has been filtered.\\n\\n% Information related to 'zoomit.ir'\\n\\n\\ndomain:\\t\\tzoomit.ir\\nascii:\\t\\tzoomit.ir\\nremarks:\\t(Domain Holder) Najme Ataeinejad\\nremarks:\\t(Domain Holder Address) No 14, Sepehr St, Farahzadi Av, Shahrek-e-Gharb, Tehran, Tehran, IR\\nholder-c:\\tna1407-irnic\\nadmin-c:\\tna1407-irnic\\ntech-c:\\t\\tna1407-irnic\\nbill-c:\\t\\tsa1601-irnic\\nnserver:\\tmarek.ns.cloudflare.com\\nnserver:\\tval.ns.cloudflare.com\\nlast-updated:\\t2017-06-26\\nexpire-date:\\t2022-08-25\\nsource:\\t\\tIRNIC # Filtered\\n\\nnic-hdl:\\tna1407-irnic\\nperson:\\t\\tNajme Ataeinejad\\ne-mail:\\t\\thitking@gmail.com\\naddress:\\tNo 14, Sepehr St, Farahzadi Av, Shahrek-e-Gharb, Tehran, Tehran, IR\\nphone:\\t\\t02122122588\\nsource:\\t\\tIRNIC # Filtered\\n\\nnic-hdl:\\tsa1601-irnic\\norg:\\t\\tSaman System Pardaz Kish Ltd\\ne-mail:\\t\\tinfo@samansystems.com\\nsource:\\t\\tIRNIC # Filtered\\n\\n\"]}"
      ]
     },
     "execution_count": 3,
     "metadata": {},
     "output_type": "execute_result"
    }
   ],
   "source": [
    "# here we can see what's the query information look like\n",
    "# it will return the whole information\n",
    "some_web_site"
   ]
  },
  {
   "cell_type": "code",
   "execution_count": 4,
   "metadata": {},
   "outputs": [
    {
     "name": "stdout",
     "output_type": "stream",
     "text": [
      "{'handle': 'na1407-irnic', 'name': 'Najme Ataeinejad', 'email': 'hitking@gmail.com', 'city': 'Tehran', 'state': 'Tehran', 'country': 'IR', 'phone': '02122122588', 'street': 'No 14\\nSepehr St\\nFarahzadi Av\\nShahrek-e-Gharb'}\n"
     ]
    }
   ],
   "source": [
    "# invoking name of owner, in a most tidy format\n",
    "print(some_web_site['contacts']['registrant'])"
   ]
  },
  {
   "cell_type": "markdown",
   "metadata": {},
   "source": [
    "#### accessing specific values of whois information "
   ]
  },
  {
   "cell_type": "code",
   "execution_count": 5,
   "metadata": {},
   "outputs": [],
   "source": [
    "# printing out what sub-methods \"some_web_site\" have\n",
    "# some_web_site.__dir__()"
   ]
  },
  {
   "cell_type": "code",
   "execution_count": 6,
   "metadata": {},
   "outputs": [
    {
     "data": {
      "text/plain": [
       "dict_keys(['expiration_date', 'updated_date', 'nameservers', 'emails', 'contacts', 'raw'])"
      ]
     },
     "execution_count": 6,
     "metadata": {},
     "output_type": "execute_result"
    }
   ],
   "source": [
    "# what data we have in our query\n",
    "some_web_site.keys()"
   ]
  },
  {
   "cell_type": "markdown",
   "metadata": {},
   "source": [
    "#### expiration date of Domain"
   ]
  },
  {
   "cell_type": "code",
   "execution_count": 7,
   "metadata": {},
   "outputs": [],
   "source": [
    "temp_data = some_web_site.get('expiration_date')"
   ]
  },
  {
   "cell_type": "code",
   "execution_count": 8,
   "metadata": {},
   "outputs": [
    {
     "data": {
      "text/plain": [
       "'Domain expiration date is: 25, Aug 2022'"
      ]
     },
     "execution_count": 8,
     "metadata": {},
     "output_type": "execute_result"
    }
   ],
   "source": [
    "temp_data[0].strftime('Domain expiration date is: %d, %b %Y')"
   ]
  },
  {
   "cell_type": "markdown",
   "metadata": {},
   "source": [
    "#### getting contents of our query "
   ]
  },
  {
   "cell_type": "code",
   "execution_count": 9,
   "metadata": {},
   "outputs": [],
   "source": [
    "some_website_info_contents = some_web_site.get('contacts')\n"
   ]
  },
  {
   "cell_type": "code",
   "execution_count": 10,
   "metadata": {},
   "outputs": [
    {
     "data": {
      "text/plain": [
       "{'handle': 'na1407-irnic',\n",
       " 'name': 'Najme Ataeinejad',\n",
       " 'email': 'hitking@gmail.com',\n",
       " 'city': 'Tehran',\n",
       " 'state': 'Tehran',\n",
       " 'country': 'IR',\n",
       " 'phone': '02122122588',\n",
       " 'street': 'No 14\\nSepehr St\\nFarahzadi Av\\nShahrek-e-Gharb'}"
      ]
     },
     "execution_count": 10,
     "metadata": {},
     "output_type": "execute_result"
    }
   ],
   "source": [
    "# registrant part of contacts\n",
    "some_website_info_contents['registrant']"
   ]
  },
  {
   "cell_type": "markdown",
   "metadata": {},
   "source": [
    "---"
   ]
  },
  {
   "cell_type": "markdown",
   "metadata": {},
   "source": [
    "to 'registrar' or 'registrant', that is the question..."
   ]
  },
  {
   "cell_type": "code",
   "execution_count": 11,
   "metadata": {},
   "outputs": [
    {
     "data": {
      "text/plain": [
       "'None'"
      ]
     },
     "execution_count": 11,
     "metadata": {},
     "output_type": "execute_result"
    }
   ],
   "source": [
    "str(some_web_site.get('registrar'))"
   ]
  },
  {
   "cell_type": "code",
   "execution_count": 12,
   "metadata": {},
   "outputs": [
    {
     "data": {
      "text/plain": [
       "'None'"
      ]
     },
     "execution_count": 12,
     "metadata": {},
     "output_type": "execute_result"
    }
   ],
   "source": [
    "str(some_web_site.get('registrant'))"
   ]
  },
  {
   "cell_type": "markdown",
   "metadata": {},
   "source": [
    "** Most important point should be mention here is that strucure of queries differs a lot.**\n",
    "\n",
    "submitted websites (DNSs) have different kind of data stuctures for presenting information about owner of the website. so best decision is searching for important information in the whole query using specific keyword and filtering it in order to achieve relevant information about owner of website (which we gonna pass as Service Provider of processed website).   "
   ]
  },
  {
   "cell_type": "markdown",
   "metadata": {},
   "source": [
    "___"
   ]
  },
  {
   "cell_type": "code",
   "execution_count": 13,
   "metadata": {},
   "outputs": [
    {
     "data": {
      "text/plain": [
       "{'handle': 'na1407-irnic',\n",
       " 'name': 'Najme Ataeinejad',\n",
       " 'email': 'hitking@gmail.com',\n",
       " 'city': 'Tehran',\n",
       " 'state': 'Tehran',\n",
       " 'country': 'IR',\n",
       " 'phone': '02122122588',\n",
       " 'street': 'No 14\\nSepehr St\\nFarahzadi Av\\nShahrek-e-Gharb'}"
      ]
     },
     "execution_count": 13,
     "metadata": {},
     "output_type": "execute_result"
    }
   ],
   "source": [
    "# tech part of contacts\n",
    "some_website_info_contents['tech']"
   ]
  },
  {
   "cell_type": "code",
   "execution_count": 14,
   "metadata": {},
   "outputs": [
    {
     "data": {
      "text/plain": [
       "{'handle': 'na1407-irnic',\n",
       " 'name': 'Najme Ataeinejad',\n",
       " 'email': 'hitking@gmail.com',\n",
       " 'city': 'Tehran',\n",
       " 'state': 'Tehran',\n",
       " 'country': 'IR',\n",
       " 'phone': '02122122588',\n",
       " 'street': 'No 14\\nSepehr St\\nFarahzadi Av\\nShahrek-e-Gharb'}"
      ]
     },
     "execution_count": 14,
     "metadata": {},
     "output_type": "execute_result"
    }
   ],
   "source": [
    "# admin part of contacts\n",
    "some_website_info_contents['admin']"
   ]
  },
  {
   "cell_type": "markdown",
   "metadata": {},
   "source": [
    "## Creating a function to do search about Owner or Acount Responsible of requested Website in Whois Query"
   ]
  },
  {
   "cell_type": "markdown",
   "metadata": {},
   "source": [
    "### ** who_is_this function ** , main core of script\n"
   ]
  },
  {
   "cell_type": "code",
   "execution_count": 23,
   "metadata": {},
   "outputs": [],
   "source": [
    "__author__ = \"Ali Fazeli\"\n",
    "__email__ = \"ali.fazeli@huawei.com\"\n",
    "__status__ = \"developing\"\n",
    "\n",
    "\n",
    "def pass_domain_as_sp(orphan_url):\n",
    "    if re.search(string=orphan_url, pattern=r\"^\\d{1,3}\\.\\d{1,3}\\.\\d{1,3}\\.\\d{1,3}$\"):\n",
    "        # this is a ip address and cannot be truncated\n",
    "        pass\n",
    "    else:\n",
    "        company = orphan_url.split(\".\")[-2]\n",
    "        return company\n",
    "\n",
    "\n",
    "def who_is_this(domain):\n",
    "    \n",
    "    findings = []\n",
    "   \n",
    "    try:\n",
    "        # fire it up! getting a whois query from invoked domain\n",
    "        whois_things = pythonwhois.get_whois(domain)\n",
    "        \n",
    "        # trying to find out the owner of website  \n",
    "        \n",
    "        try:                    \n",
    "            if whois_things['registrar'] != None:\n",
    "                print(whois_things['registrar'])      \n",
    "                findings.append(whois_things['registrar'])\n",
    "        except (KeyError,TypeError) as e:\n",
    "            #print ('{} not found.'.format(str(e)))          \n",
    "            pass\n",
    "        \n",
    "        try:                    \n",
    "            if whois_things['registrant'] != None:\n",
    "                print(whois_things['registrant'])      \n",
    "                findings.append(whois_things['registrant'])\n",
    "        except (KeyError,TypeError) as e:\n",
    "            #print ('{} not found.'.format(str(e)))\n",
    "            pass\n",
    "        \n",
    "        \n",
    "        try:\n",
    "            if whois_things['contacts']['registrar']['name'] != None:\n",
    "                print(whois_things['contacts']['registrant']['name']) \n",
    "                findings.append(whois_things['contacts']['registrant']['name'])\n",
    "        except (KeyError,TypeError) as e:\n",
    "            #print ('{} not found.'.format(str(e)))\n",
    "            pass\n",
    "        \n",
    "        \n",
    "        try:\n",
    "            if whois_things['contacts']['registrant']['name'] != None:\n",
    "                print(whois_things['contacts']['registrant']['name'])\n",
    "                findings.append(whois_things['contacts']['registrant']['name'])\n",
    "        except Exception as e:\n",
    "            #print ('{} not found.'.format(str(e)))\n",
    "            pass\n",
    "        \n",
    "        \n",
    "        try:\n",
    "            if whois_things['contacts']['tech']['organization'] != None :\n",
    "                print(whois_things['contacts']['tech']['organization'])\n",
    "                findings.append(whois_things['contacts']['tech']['organization'])\n",
    "        except (KeyError,TypeError) as e:\n",
    "            #print ('{} not found.'.format(str(e)))\n",
    "            pass\n",
    "        \n",
    "        \n",
    "        try:\n",
    "            if whois_things['contacts']['organization'] != None :\n",
    "                print(whois_things['contacts']['organization'])\n",
    "                findings.append(whois_things['contacts']['organization'])\n",
    "        except (KeyError,TypeError) as e:\n",
    "            #print ('{} not found.'.format(str(e)))\n",
    "            pass\n",
    "        \n",
    "        # bye-bye\n",
    "        except Exception:\n",
    "            print ('\\nThere seems to be no registrant for this domain.')\n",
    "            #company = domain\n",
    "            pass\n",
    "        \n",
    "        \n",
    "        # spliting the input and lowering letters\n",
    "        splitup = domain.lower().split()\n",
    "        # making a pattern from input\n",
    "        patern = re.compile('|'.join(splitup))\n",
    "        \n",
    "        while True:\n",
    "            # base on domain feature of whois query...\n",
    "            # if we have domain information about requested query...\n",
    "            if patern.search(domain):\n",
    "                #print('Whois Results Are Good ' + company)\n",
    "                print ('\\nThe Whois Results Look Promising: {} '.format(domain))\n",
    "                \n",
    "                # making sure if it is okay...\n",
    "                # TO-DO : change this with like method in order to automate the interactive asking process \n",
    "                accept = input('\\nIs the  Search Term sufficient?: '.lower())\n",
    "                if accept in ('y', 'yes'): \n",
    "                    pass_domain_as_sp(domain)\n",
    "                    break\n",
    "                # just in case if there is no appropriate company name, we can overwrite the currect value, or not xD\n",
    "                elif accept in ('n', 'no'):\n",
    "                    #\n",
    "                    # in case of fiiling company name...\n",
    "                    print('User Supplied Company ' + company)\n",
    "                    company = temp_company\n",
    "                    break\n",
    "                else:\n",
    "                    print ('\\nThe Options Are yes|no Or y|no Not {}'.format(accept))\n",
    " \n",
    "            else:\n",
    "                # if we don't have domain information about requested query...\n",
    "                #print('Whois Results Not Good ' + company)\n",
    "                print (\"\\n\\tThe Whois Results Don't Look Very Promissing: '{}'\".format(domain))\n",
    "                temp_company = input('\\nRegistered Company Name: ')\n",
    "                if temp_company == '':\n",
    "                    print('User Supplied Blank Company')\n",
    "                    # in the case of leaving \"temp_company\" blank domain value will be assigned to company value\n",
    "                    company = domain\n",
    "                    break\n",
    "                else:\n",
    "                    # in case of fiiling company name...\n",
    "                    print('User Supplied Company ' + company)\n",
    "                    company = temp_company\n",
    "                    break\n",
    " \n",
    "    # if we cannot perform \"pythonwhois.get_whois(domain)\" thing...\n",
    "    except pythonwhois.shared.WhoisException:\n",
    "        pass\n",
    "    # this exception is raised for socket-related errors\n",
    "    except socket.error:\n",
    "        pass\n",
    "    # if the key we are requesting is not in the query information we've retrieving\n",
    "    except KeyError:\n",
    "        pass\n",
    "    # if we have network problem with proxies and stuff like that...\n",
    "    except pythonwhois.net.socket.errno.ETIMEDOUT:\n",
    "        print ('\\nWhoisError: You may be behind a proxy or firewall preventing whois lookups. Please supply the registered company name, if left blank the domain name ' + '\"' + domain + '\"' +' will be used for the Linkedin search. The results may not be as accurate.')\n",
    "        temp_company = input('\\nRegistered Company Name: ')\n",
    "        if temp_company == '':\n",
    "            company = domain\n",
    "        else:\n",
    "            company = temp_company\n",
    "    except Exception:      \n",
    "        print(\"An Unhandled Exception Has Occured, sry:((\")\n",
    "        \n",
    "    # if we don't have any \"company\" info in our query...\n",
    "    # \"locals()\" method looks up in the query dictionary\n",
    "    if 'company' not in locals():\n",
    "        print ('There is no Whois data for this domain.\\n\\nPlease supply a company name.')\n",
    "        pass\n",
    "    \n",
    "        \"\"\"\n",
    "        while True:\n",
    "            temp_company = input('\\nRegistered Company Name: ')\n",
    "            if temp_company == '':\n",
    "                # in the case of leaving \"temp_company\" blank domain value will be assigned to company value\n",
    "                print('User Supplied Blank Company')\n",
    "                company = domain\n",
    "                break\n",
    "            else:\n",
    "                # in case of fiiling company name...\n",
    "                company = temp_company\n",
    "                print('User Supplied Company ' + company)\n",
    "                break\n",
    "         \"\"\"\n",
    "    print(company)\n",
    "    return company"
   ]
  },
  {
   "cell_type": "code",
   "execution_count": 24,
   "metadata": {},
   "outputs": [],
   "source": [
    "# providing some input\n",
    "# the example deliberately has to many dots for testing the truncating of URL\n",
    "domain = 'webex.com'"
   ]
  },
  {
   "cell_type": "code",
   "execution_count": null,
   "metadata": {},
   "outputs": [],
   "source": [
    "# who_is_this() module testing \n",
    "who_is_this(domain)"
   ]
  },
  {
   "cell_type": "markdown",
   "metadata": {},
   "source": [
    "## Second Stage : Reading data from an Ecxel file and passing it into Pandas Data Frames"
   ]
  },
  {
   "cell_type": "code",
   "execution_count": 4,
   "metadata": {},
   "outputs": [],
   "source": [
    "from openpyxl import load_workbook\n",
    "import pandas as pd\n",
    "import re"
   ]
  },
  {
   "cell_type": "code",
   "execution_count": 5,
   "metadata": {},
   "outputs": [],
   "source": [
    "# reading excel file using panda's read_excel module\n",
    "excel_file = pd.read_csv(\"test.csv\")"
   ]
  },
  {
   "cell_type": "code",
   "execution_count": null,
   "metadata": {},
   "outputs": [],
   "source": [
    "# showing up first three records of data\n",
    "excel_file.loc[:5]"
   ]
  },
  {
   "cell_type": "code",
   "execution_count": null,
   "metadata": {},
   "outputs": [],
   "source": [
    "# selecting host and sp feature \n",
    "df = pd.DataFrame(excel_file, columns = ['host', 'sp'])"
   ]
  },
  {
   "cell_type": "code",
   "execution_count": null,
   "metadata": {},
   "outputs": [],
   "source": [
    "type(df)"
   ]
  },
  {
   "cell_type": "code",
   "execution_count": null,
   "metadata": {},
   "outputs": [],
   "source": [
    "df.head()"
   ]
  },
  {
   "cell_type": "markdown",
   "metadata": {},
   "source": [
    "### Filtering the 'host' feature and passing it to who_is_this() module"
   ]
  },
  {
   "cell_type": "markdown",
   "metadata": {},
   "source": [
    "in this section, we filter unappropriate host data in order of standardization\n",
    "\n",
    "- deleting the sub-domains of host addresses which have sub-domains and keeping the main domain of website\n",
    "- ignoring IPv6 hosts (which logically they are wrong records, just because they haven't any DNS set on)\n",
    "- ignoring any host addresses which have space (Unicode Character 'SPACE' (U+0020)) (we have significant count of records in this category)\n",
    "- removing **https//** from beginning of address \n",
    "- removing **/** (slash) from the end of file"
   ]
  },
  {
   "cell_type": "code",
   "execution_count": null,
   "metadata": {},
   "outputs": [],
   "source": [
    "# defining a list for temporarily store new SP suggestions, in order to append it to the Data-Frame at the end of who_is_this() function\n",
    "\n",
    "new_SP_values = []\n",
    "\n",
    "for domain in df['host']:\n",
    "    #use domain for completing new sp (service provider) column\n",
    "    # domains with redundent sub-domains\n",
    "    if domain[0:2]==\"*.\":\n",
    "        domain = domain[2:]\n",
    "        new_SP_values.append(who_is_this(domain))\n",
    "    # we're gonna ignore ipv6\n",
    "    elif re.search(string=domain, pattern=r\"[A-F0-9]{1,4}\\:[A-F0-9]{0,4}\\:[A-F0-9]{0,4}\\:[A-F0-9]{0,4}\\:[A-F0-9]{0,4}\\:[A-F0-9]{0,4}\\:[A-F0-9]{0,4}\\:[A-F0-9]{0,4}\"):\n",
    "        new_SP_values.append(\"\")\n",
    "        continue\n",
    "    # hosts which have space, we're gonna ignore them\n",
    "    elif re.search(string=domain, pattern=r\"\\s\"):  \n",
    "        new_SP_values.append(\"\")\n",
    "        continue\n",
    "    # deleting slash at the end \n",
    "    elif re.search(string=domain, pattern=r\"\\/$\"):\n",
    "        domain = domain[:-1]\n",
    "    # getting rid of http and http of beginning\n",
    "    elif re.search(string=domain, pattern=r\"^http:\\/\\/\"):\n",
    "        domain = domain[7:]\n",
    "    elif re.search(string=domain, pattern=r\"^https:\\/\\/\"):\n",
    "        domain = domain[8:]\n",
    "    else:\n",
    "        # very standard hosts will go to the heaven\n",
    "        # calling the who_is_this() module\n",
    "        # who_is_this(domain)\n",
    "        \n",
    "        # append the processed query result to our temporarily list \n",
    "        new_SP_values.append(who_is_this(domain))\n",
    "        \n",
    "# save temporarily list which contains query results in the main Pandas Data-Frame\n",
    "df['new_SP'] = new_SP_values"
   ]
  },
  {
   "cell_type": "code",
   "execution_count": 76,
   "metadata": {},
   "outputs": [
    {
     "data": {
      "text/html": [
       "<div>\n",
       "<style scoped>\n",
       "    .dataframe tbody tr th:only-of-type {\n",
       "        vertical-align: middle;\n",
       "    }\n",
       "\n",
       "    .dataframe tbody tr th {\n",
       "        vertical-align: top;\n",
       "    }\n",
       "\n",
       "    .dataframe thead th {\n",
       "        text-align: right;\n",
       "    }\n",
       "</style>\n",
       "<table border=\"1\" class=\"dataframe\">\n",
       "  <thead>\n",
       "    <tr style=\"text-align: right;\">\n",
       "      <th></th>\n",
       "      <th>host</th>\n",
       "      <th>sp</th>\n",
       "      <th>new_SP</th>\n",
       "    </tr>\n",
       "  </thead>\n",
       "  <tbody>\n",
       "    <tr>\n",
       "      <th>0</th>\n",
       "      <td>2A03:2880:F21C:81C4:FACE:B00C:0000:43FE</td>\n",
       "      <td>instagram</td>\n",
       "      <td></td>\n",
       "    </tr>\n",
       "    <tr>\n",
       "      <th>1</th>\n",
       "      <td>dc2aio.iranlms.ir</td>\n",
       "      <td>rubika</td>\n",
       "      <td>iranlms</td>\n",
       "    </tr>\n",
       "    <tr>\n",
       "      <th>2</th>\n",
       "      <td>*.fevn1-1.fna.fbcdn.net</td>\n",
       "      <td>instagram</td>\n",
       "      <td>fbcdn</td>\n",
       "    </tr>\n",
       "    <tr>\n",
       "      <th>3</th>\n",
       "      <td>uupload.ir</td>\n",
       "      <td>NaN</td>\n",
       "      <td>uupload</td>\n",
       "    </tr>\n",
       "    <tr>\n",
       "      <th>4</th>\n",
       "      <td>dl1.sarzamindownload.com</td>\n",
       "      <td>NaN</td>\n",
       "      <td>sarzamindownload</td>\n",
       "    </tr>\n",
       "  </tbody>\n",
       "</table>\n",
       "</div>"
      ],
      "text/plain": [
       "                                      host         sp            new_SP\n",
       "0  2A03:2880:F21C:81C4:FACE:B00C:0000:43FE  instagram                  \n",
       "1                        dc2aio.iranlms.ir     rubika           iranlms\n",
       "2                  *.fevn1-1.fna.fbcdn.net  instagram             fbcdn\n",
       "3                               uupload.ir        NaN           uupload\n",
       "4                 dl1.sarzamindownload.com        NaN  sarzamindownload"
      ]
     },
     "execution_count": 76,
     "metadata": {},
     "output_type": "execute_result"
    }
   ],
   "source": [
    "df.head()"
   ]
  },
  {
   "cell_type": "markdown",
   "metadata": {},
   "source": [
    "### Advantages of script above\n",
    "\n",
    "we can filter a lot of records which are un-standard Host Addresses. for instance **IPv6** addresses with no DNS recording to that and **un-supported Host addresses which have space in their address** and other static patterns which could apply to filter records (and subsequently report the miss-indexed records by A**)."
   ]
  },
  {
   "cell_type": "markdown",
   "metadata": {},
   "source": [
    "** as you can see, the hosts which doesn't look like a standard Host are filtered and obviously didn't pass to who_is_this function.**"
   ]
  },
  {
   "cell_type": "markdown",
   "metadata": {},
   "source": [
    "## Writing the data into a new column in Pandas Data-Frame"
   ]
  },
  {
   "cell_type": "markdown",
   "metadata": {},
   "source": [
    "### saving data in SP column in pre-loaded Excel file "
   ]
  },
  {
   "cell_type": "markdown",
   "metadata": {},
   "source": [
    "**TO-DO** : overwriting the data into preloaded Excel file"
   ]
  },
  {
   "cell_type": "code",
   "execution_count": 77,
   "metadata": {},
   "outputs": [],
   "source": [
    "writer = pd.ExcelWriter('output.xlsx')"
   ]
  },
  {
   "cell_type": "code",
   "execution_count": 78,
   "metadata": {},
   "outputs": [],
   "source": [
    "df.to_excel(writer,'Sheet1',)\n",
    "# df2.to_excel(writer,'Sheet2')"
   ]
  },
  {
   "cell_type": "code",
   "execution_count": 79,
   "metadata": {},
   "outputs": [],
   "source": [
    "writer.save()"
   ]
  }
 ],
 "metadata": {
  "kernelspec": {
   "display_name": "Python 3",
   "language": "python",
   "name": "python3"
  },
  "language_info": {
   "codemirror_mode": {
    "name": "ipython",
    "version": 3
   },
   "file_extension": ".py",
   "mimetype": "text/x-python",
   "name": "python",
   "nbconvert_exporter": "python",
   "pygments_lexer": "ipython3",
   "version": "3.7.5"
  }
 },
 "nbformat": 4,
 "nbformat_minor": 4
}
